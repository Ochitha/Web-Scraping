{
  "nbformat": 4,
  "nbformat_minor": 0,
  "metadata": {
    "colab": {
      "provenance": []
    },
    "kernelspec": {
      "name": "python3",
      "display_name": "Python 3"
    },
    "language_info": {
      "name": "python"
    }
  },
  "cells": [
    {
      "cell_type": "code",
      "source": [
        "!pip install selenium"
      ],
      "metadata": {
        "colab": {
          "base_uri": "https://localhost:8080/"
        },
        "id": "gjVOzupAaXsU",
        "outputId": "354ca02f-5ddc-434e-fb46-a327d22703d1"
      },
      "execution_count": null,
      "outputs": [
        {
          "output_type": "stream",
          "name": "stdout",
          "text": [
            "Collecting selenium\n",
            "  Downloading selenium-4.10.0-py3-none-any.whl (6.7 MB)\n",
            "\u001b[2K     \u001b[90m━━━━━━━━━━━━━━━━━━━━━━━━━━━━━━━━━━━━━━━━\u001b[0m \u001b[32m6.7/6.7 MB\u001b[0m \u001b[31m16.3 MB/s\u001b[0m eta \u001b[36m0:00:00\u001b[0m\n",
            "\u001b[?25hRequirement already satisfied: urllib3[socks]<3,>=1.26 in /usr/local/lib/python3.10/dist-packages (from selenium) (1.26.16)\n",
            "Collecting trio~=0.17 (from selenium)\n",
            "  Downloading trio-0.22.2-py3-none-any.whl (400 kB)\n",
            "\u001b[2K     \u001b[90m━━━━━━━━━━━━━━━━━━━━━━━━━━━━━━━━━━━━━━\u001b[0m \u001b[32m400.2/400.2 kB\u001b[0m \u001b[31m26.2 MB/s\u001b[0m eta \u001b[36m0:00:00\u001b[0m\n",
            "\u001b[?25hCollecting trio-websocket~=0.9 (from selenium)\n",
            "  Downloading trio_websocket-0.10.3-py3-none-any.whl (17 kB)\n",
            "Requirement already satisfied: certifi>=2021.10.8 in /usr/local/lib/python3.10/dist-packages (from selenium) (2023.5.7)\n",
            "Requirement already satisfied: attrs>=20.1.0 in /usr/local/lib/python3.10/dist-packages (from trio~=0.17->selenium) (23.1.0)\n",
            "Requirement already satisfied: sortedcontainers in /usr/local/lib/python3.10/dist-packages (from trio~=0.17->selenium) (2.4.0)\n",
            "Requirement already satisfied: idna in /usr/local/lib/python3.10/dist-packages (from trio~=0.17->selenium) (3.4)\n",
            "Collecting outcome (from trio~=0.17->selenium)\n",
            "  Downloading outcome-1.2.0-py2.py3-none-any.whl (9.7 kB)\n",
            "Requirement already satisfied: sniffio in /usr/local/lib/python3.10/dist-packages (from trio~=0.17->selenium) (1.3.0)\n",
            "Requirement already satisfied: exceptiongroup>=1.0.0rc9 in /usr/local/lib/python3.10/dist-packages (from trio~=0.17->selenium) (1.1.2)\n",
            "Collecting wsproto>=0.14 (from trio-websocket~=0.9->selenium)\n",
            "  Downloading wsproto-1.2.0-py3-none-any.whl (24 kB)\n",
            "Requirement already satisfied: PySocks!=1.5.7,<2.0,>=1.5.6 in /usr/local/lib/python3.10/dist-packages (from urllib3[socks]<3,>=1.26->selenium) (1.7.1)\n",
            "Collecting h11<1,>=0.9.0 (from wsproto>=0.14->trio-websocket~=0.9->selenium)\n",
            "  Downloading h11-0.14.0-py3-none-any.whl (58 kB)\n",
            "\u001b[2K     \u001b[90m━━━━━━━━━━━━━━━━━━━━━━━━━━━━━━━━━━━━━━━━\u001b[0m \u001b[32m58.3/58.3 kB\u001b[0m \u001b[31m5.8 MB/s\u001b[0m eta \u001b[36m0:00:00\u001b[0m\n",
            "\u001b[?25hInstalling collected packages: outcome, h11, wsproto, trio, trio-websocket, selenium\n",
            "Successfully installed h11-0.14.0 outcome-1.2.0 selenium-4.10.0 trio-0.22.2 trio-websocket-0.10.3 wsproto-1.2.0\n"
          ]
        }
      ]
    },
    {
      "cell_type": "code",
      "execution_count": null,
      "metadata": {
        "colab": {
          "base_uri": "https://localhost:8080/",
          "height": 692
        },
        "id": "NglgwrcuGODj",
        "outputId": "d9ac5cd2-050d-4c82-bbe7-e03651d84d04"
      },
      "outputs": [
        {
          "output_type": "stream",
          "name": "stderr",
          "text": [
            "WARNING:selenium.webdriver.common.selenium_manager:The version of chrome cannot be detected. Trying with latest driver version\n"
          ]
        },
        {
          "output_type": "error",
          "ename": "WebDriverException",
          "evalue": "ignored",
          "traceback": [
            "\u001b[0;31m---------------------------------------------------------------------------\u001b[0m",
            "\u001b[0;31mWebDriverException\u001b[0m                        Traceback (most recent call last)",
            "\u001b[0;32m<ipython-input-62-e886f4ed579d>\u001b[0m in \u001b[0;36m<cell line: 15>\u001b[0;34m()\u001b[0m\n\u001b[1;32m     16\u001b[0m \u001b[0;34m\u001b[0m\u001b[0m\n\u001b[1;32m     17\u001b[0m     \u001b[0mpage_url\u001b[0m \u001b[0;34m=\u001b[0m \u001b[0;34m\"https://ikman.lk/en/ads/sri-lanka/land-for-sale?sort=date&order=desc&buy_now=0&urgent=0&page=\"\u001b[0m \u001b[0;34m+\u001b[0m \u001b[0mstr\u001b[0m\u001b[0;34m(\u001b[0m\u001b[0mpage\u001b[0m\u001b[0;34m)\u001b[0m\u001b[0;34m\u001b[0m\u001b[0;34m\u001b[0m\u001b[0m\n\u001b[0;32m---> 18\u001b[0;31m     \u001b[0mdriver\u001b[0m \u001b[0;34m=\u001b[0m \u001b[0mwebdriver\u001b[0m\u001b[0;34m.\u001b[0m\u001b[0mChrome\u001b[0m\u001b[0;34m(\u001b[0m\u001b[0;34m)\u001b[0m\u001b[0;34m\u001b[0m\u001b[0;34m\u001b[0m\u001b[0m\n\u001b[0m\u001b[1;32m     19\u001b[0m     \u001b[0mdriver\u001b[0m\u001b[0;34m.\u001b[0m\u001b[0mget\u001b[0m\u001b[0;34m(\u001b[0m\u001b[0mpage_url\u001b[0m\u001b[0;34m)\u001b[0m\u001b[0;34m\u001b[0m\u001b[0;34m\u001b[0m\u001b[0m\n\u001b[1;32m     20\u001b[0m     \u001b[0mland_location\u001b[0m \u001b[0;34m=\u001b[0m \u001b[0msoup\u001b[0m\u001b[0;34m.\u001b[0m\u001b[0mfind_all\u001b[0m\u001b[0;34m(\u001b[0m\u001b[0;34m'div'\u001b[0m\u001b[0;34m,\u001b[0m \u001b[0mclass_\u001b[0m\u001b[0;34m=\u001b[0m\u001b[0;34m'description--2-ez3'\u001b[0m\u001b[0;34m)\u001b[0m \u001b[0;31m# Find all the product names and prices in nested tags using the main tag\u001b[0m\u001b[0;34m\u001b[0m\u001b[0;34m\u001b[0m\u001b[0m\n",
            "\u001b[0;32m/usr/local/lib/python3.10/dist-packages/selenium/webdriver/chrome/webdriver.py\u001b[0m in \u001b[0;36m__init__\u001b[0;34m(self, options, service, keep_alive)\u001b[0m\n\u001b[1;32m     47\u001b[0m         \u001b[0mself\u001b[0m\u001b[0;34m.\u001b[0m\u001b[0mservice\u001b[0m\u001b[0;34m.\u001b[0m\u001b[0mpath\u001b[0m \u001b[0;34m=\u001b[0m \u001b[0mDriverFinder\u001b[0m\u001b[0;34m.\u001b[0m\u001b[0mget_path\u001b[0m\u001b[0;34m(\u001b[0m\u001b[0mself\u001b[0m\u001b[0;34m.\u001b[0m\u001b[0mservice\u001b[0m\u001b[0;34m,\u001b[0m \u001b[0mself\u001b[0m\u001b[0;34m.\u001b[0m\u001b[0moptions\u001b[0m\u001b[0;34m)\u001b[0m\u001b[0;34m\u001b[0m\u001b[0;34m\u001b[0m\u001b[0m\n\u001b[1;32m     48\u001b[0m \u001b[0;34m\u001b[0m\u001b[0m\n\u001b[0;32m---> 49\u001b[0;31m         super().__init__(\n\u001b[0m\u001b[1;32m     50\u001b[0m             \u001b[0mDesiredCapabilities\u001b[0m\u001b[0;34m.\u001b[0m\u001b[0mCHROME\u001b[0m\u001b[0;34m[\u001b[0m\u001b[0;34m\"browserName\"\u001b[0m\u001b[0;34m]\u001b[0m\u001b[0;34m,\u001b[0m\u001b[0;34m\u001b[0m\u001b[0;34m\u001b[0m\u001b[0m\n\u001b[1;32m     51\u001b[0m             \u001b[0;34m\"goog\"\u001b[0m\u001b[0;34m,\u001b[0m\u001b[0;34m\u001b[0m\u001b[0;34m\u001b[0m\u001b[0m\n",
            "\u001b[0;32m/usr/local/lib/python3.10/dist-packages/selenium/webdriver/chromium/webdriver.py\u001b[0m in \u001b[0;36m__init__\u001b[0;34m(self, browser_name, vendor_prefix, options, service, keep_alive)\u001b[0m\n\u001b[1;32m     52\u001b[0m \u001b[0;34m\u001b[0m\u001b[0m\n\u001b[1;32m     53\u001b[0m         \u001b[0;32mtry\u001b[0m\u001b[0;34m:\u001b[0m\u001b[0;34m\u001b[0m\u001b[0;34m\u001b[0m\u001b[0m\n\u001b[0;32m---> 54\u001b[0;31m             super().__init__(\n\u001b[0m\u001b[1;32m     55\u001b[0m                 command_executor=ChromiumRemoteConnection(\n\u001b[1;32m     56\u001b[0m                     \u001b[0mremote_server_addr\u001b[0m\u001b[0;34m=\u001b[0m\u001b[0mself\u001b[0m\u001b[0;34m.\u001b[0m\u001b[0mservice\u001b[0m\u001b[0;34m.\u001b[0m\u001b[0mservice_url\u001b[0m\u001b[0;34m,\u001b[0m\u001b[0;34m\u001b[0m\u001b[0;34m\u001b[0m\u001b[0m\n",
            "\u001b[0;32m/usr/local/lib/python3.10/dist-packages/selenium/webdriver/remote/webdriver.py\u001b[0m in \u001b[0;36m__init__\u001b[0;34m(self, command_executor, keep_alive, file_detector, options)\u001b[0m\n\u001b[1;32m    204\u001b[0m         \u001b[0mself\u001b[0m\u001b[0;34m.\u001b[0m\u001b[0m_authenticator_id\u001b[0m \u001b[0;34m=\u001b[0m \u001b[0;32mNone\u001b[0m\u001b[0;34m\u001b[0m\u001b[0;34m\u001b[0m\u001b[0m\n\u001b[1;32m    205\u001b[0m         \u001b[0mself\u001b[0m\u001b[0;34m.\u001b[0m\u001b[0mstart_client\u001b[0m\u001b[0;34m(\u001b[0m\u001b[0;34m)\u001b[0m\u001b[0;34m\u001b[0m\u001b[0;34m\u001b[0m\u001b[0m\n\u001b[0;32m--> 206\u001b[0;31m         \u001b[0mself\u001b[0m\u001b[0;34m.\u001b[0m\u001b[0mstart_session\u001b[0m\u001b[0;34m(\u001b[0m\u001b[0mcapabilities\u001b[0m\u001b[0;34m)\u001b[0m\u001b[0;34m\u001b[0m\u001b[0;34m\u001b[0m\u001b[0m\n\u001b[0m\u001b[1;32m    207\u001b[0m \u001b[0;34m\u001b[0m\u001b[0m\n\u001b[1;32m    208\u001b[0m     \u001b[0;32mdef\u001b[0m \u001b[0m__repr__\u001b[0m\u001b[0;34m(\u001b[0m\u001b[0mself\u001b[0m\u001b[0;34m)\u001b[0m\u001b[0;34m:\u001b[0m\u001b[0;34m\u001b[0m\u001b[0;34m\u001b[0m\u001b[0m\n",
            "\u001b[0;32m/usr/local/lib/python3.10/dist-packages/selenium/webdriver/remote/webdriver.py\u001b[0m in \u001b[0;36mstart_session\u001b[0;34m(self, capabilities)\u001b[0m\n\u001b[1;32m    289\u001b[0m \u001b[0;34m\u001b[0m\u001b[0m\n\u001b[1;32m    290\u001b[0m         \u001b[0mcaps\u001b[0m \u001b[0;34m=\u001b[0m \u001b[0m_create_caps\u001b[0m\u001b[0;34m(\u001b[0m\u001b[0mcapabilities\u001b[0m\u001b[0;34m)\u001b[0m\u001b[0;34m\u001b[0m\u001b[0;34m\u001b[0m\u001b[0m\n\u001b[0;32m--> 291\u001b[0;31m         \u001b[0mresponse\u001b[0m \u001b[0;34m=\u001b[0m \u001b[0mself\u001b[0m\u001b[0;34m.\u001b[0m\u001b[0mexecute\u001b[0m\u001b[0;34m(\u001b[0m\u001b[0mCommand\u001b[0m\u001b[0;34m.\u001b[0m\u001b[0mNEW_SESSION\u001b[0m\u001b[0;34m,\u001b[0m \u001b[0mcaps\u001b[0m\u001b[0;34m)\u001b[0m\u001b[0;34m[\u001b[0m\u001b[0;34m\"value\"\u001b[0m\u001b[0;34m]\u001b[0m\u001b[0;34m\u001b[0m\u001b[0;34m\u001b[0m\u001b[0m\n\u001b[0m\u001b[1;32m    292\u001b[0m         \u001b[0mself\u001b[0m\u001b[0;34m.\u001b[0m\u001b[0msession_id\u001b[0m \u001b[0;34m=\u001b[0m \u001b[0mresponse\u001b[0m\u001b[0;34m.\u001b[0m\u001b[0mget\u001b[0m\u001b[0;34m(\u001b[0m\u001b[0;34m\"sessionId\"\u001b[0m\u001b[0;34m)\u001b[0m\u001b[0;34m\u001b[0m\u001b[0;34m\u001b[0m\u001b[0m\n\u001b[1;32m    293\u001b[0m         \u001b[0mself\u001b[0m\u001b[0;34m.\u001b[0m\u001b[0mcaps\u001b[0m \u001b[0;34m=\u001b[0m \u001b[0mresponse\u001b[0m\u001b[0;34m.\u001b[0m\u001b[0mget\u001b[0m\u001b[0;34m(\u001b[0m\u001b[0;34m\"capabilities\"\u001b[0m\u001b[0;34m)\u001b[0m\u001b[0;34m\u001b[0m\u001b[0;34m\u001b[0m\u001b[0m\n",
            "\u001b[0;32m/usr/local/lib/python3.10/dist-packages/selenium/webdriver/remote/webdriver.py\u001b[0m in \u001b[0;36mexecute\u001b[0;34m(self, driver_command, params)\u001b[0m\n\u001b[1;32m    344\u001b[0m         \u001b[0mresponse\u001b[0m \u001b[0;34m=\u001b[0m \u001b[0mself\u001b[0m\u001b[0;34m.\u001b[0m\u001b[0mcommand_executor\u001b[0m\u001b[0;34m.\u001b[0m\u001b[0mexecute\u001b[0m\u001b[0;34m(\u001b[0m\u001b[0mdriver_command\u001b[0m\u001b[0;34m,\u001b[0m \u001b[0mparams\u001b[0m\u001b[0;34m)\u001b[0m\u001b[0;34m\u001b[0m\u001b[0;34m\u001b[0m\u001b[0m\n\u001b[1;32m    345\u001b[0m         \u001b[0;32mif\u001b[0m \u001b[0mresponse\u001b[0m\u001b[0;34m:\u001b[0m\u001b[0;34m\u001b[0m\u001b[0;34m\u001b[0m\u001b[0m\n\u001b[0;32m--> 346\u001b[0;31m             \u001b[0mself\u001b[0m\u001b[0;34m.\u001b[0m\u001b[0merror_handler\u001b[0m\u001b[0;34m.\u001b[0m\u001b[0mcheck_response\u001b[0m\u001b[0;34m(\u001b[0m\u001b[0mresponse\u001b[0m\u001b[0;34m)\u001b[0m\u001b[0;34m\u001b[0m\u001b[0;34m\u001b[0m\u001b[0m\n\u001b[0m\u001b[1;32m    347\u001b[0m             \u001b[0mresponse\u001b[0m\u001b[0;34m[\u001b[0m\u001b[0;34m\"value\"\u001b[0m\u001b[0;34m]\u001b[0m \u001b[0;34m=\u001b[0m \u001b[0mself\u001b[0m\u001b[0;34m.\u001b[0m\u001b[0m_unwrap_value\u001b[0m\u001b[0;34m(\u001b[0m\u001b[0mresponse\u001b[0m\u001b[0;34m.\u001b[0m\u001b[0mget\u001b[0m\u001b[0;34m(\u001b[0m\u001b[0;34m\"value\"\u001b[0m\u001b[0;34m,\u001b[0m \u001b[0;32mNone\u001b[0m\u001b[0;34m)\u001b[0m\u001b[0;34m)\u001b[0m\u001b[0;34m\u001b[0m\u001b[0;34m\u001b[0m\u001b[0m\n\u001b[1;32m    348\u001b[0m             \u001b[0;32mreturn\u001b[0m \u001b[0mresponse\u001b[0m\u001b[0;34m\u001b[0m\u001b[0;34m\u001b[0m\u001b[0m\n",
            "\u001b[0;32m/usr/local/lib/python3.10/dist-packages/selenium/webdriver/remote/errorhandler.py\u001b[0m in \u001b[0;36mcheck_response\u001b[0;34m(self, response)\u001b[0m\n\u001b[1;32m    243\u001b[0m                 \u001b[0malert_text\u001b[0m \u001b[0;34m=\u001b[0m \u001b[0mvalue\u001b[0m\u001b[0;34m[\u001b[0m\u001b[0;34m\"alert\"\u001b[0m\u001b[0;34m]\u001b[0m\u001b[0;34m.\u001b[0m\u001b[0mget\u001b[0m\u001b[0;34m(\u001b[0m\u001b[0;34m\"text\"\u001b[0m\u001b[0;34m)\u001b[0m\u001b[0;34m\u001b[0m\u001b[0;34m\u001b[0m\u001b[0m\n\u001b[1;32m    244\u001b[0m             \u001b[0;32mraise\u001b[0m \u001b[0mexception_class\u001b[0m\u001b[0;34m(\u001b[0m\u001b[0mmessage\u001b[0m\u001b[0;34m,\u001b[0m \u001b[0mscreen\u001b[0m\u001b[0;34m,\u001b[0m \u001b[0mstacktrace\u001b[0m\u001b[0;34m,\u001b[0m \u001b[0malert_text\u001b[0m\u001b[0;34m)\u001b[0m  \u001b[0;31m# type: ignore[call-arg]  # mypy is not smart enough here\u001b[0m\u001b[0;34m\u001b[0m\u001b[0;34m\u001b[0m\u001b[0m\n\u001b[0;32m--> 245\u001b[0;31m         \u001b[0;32mraise\u001b[0m \u001b[0mexception_class\u001b[0m\u001b[0;34m(\u001b[0m\u001b[0mmessage\u001b[0m\u001b[0;34m,\u001b[0m \u001b[0mscreen\u001b[0m\u001b[0;34m,\u001b[0m \u001b[0mstacktrace\u001b[0m\u001b[0;34m)\u001b[0m\u001b[0;34m\u001b[0m\u001b[0;34m\u001b[0m\u001b[0m\n\u001b[0m",
            "\u001b[0;31mWebDriverException\u001b[0m: Message: unknown error: cannot find Chrome binary\nStacktrace:\n#0 0x57ea044714e3 <unknown>\n#1 0x57ea041a0c76 <unknown>\n#2 0x57ea041c7757 <unknown>\n#3 0x57ea041c6029 <unknown>\n#4 0x57ea04204ccc <unknown>\n#5 0x57ea0420447f <unknown>\n#6 0x57ea041fbde3 <unknown>\n#7 0x57ea041d12dd <unknown>\n#8 0x57ea041d234e <unknown>\n#9 0x57ea044313e4 <unknown>\n#10 0x57ea044353d7 <unknown>\n#11 0x57ea0443fb20 <unknown>\n#12 0x57ea04436023 <unknown>\n#13 0x57ea044041aa <unknown>\n#14 0x57ea0445a6b8 <unknown>\n#15 0x57ea0445a847 <unknown>\n#16 0x57ea0446a243 <unknown>\n#17 0x796a95023b43 <unknown>\n"
          ]
        }
      ],
      "source": [
        "#selenium with loop\n",
        "from selenium import webdriver\n",
        "from bs4 import BeautifulSoup\n",
        "import pandas as pd\n",
        "import requests\n",
        "\n",
        "url = \"https://ikman.lk/en/ads/sri-lanka/land-for-sale\"\n",
        "response = requests.get(url)\n",
        "\n",
        "# Create a BeautifulSoup object\n",
        "soup = BeautifulSoup(response.text, 'html.parser')\n",
        "\n",
        "# Create empty lists to store the names and prices\n",
        "location = []\n",
        "num_perches = []\n",
        "prices = []\n",
        "\n",
        "#loop\n",
        "for page in range(1,15, 1):\n",
        "\n",
        "    page_url = \"https://ikman.lk/en/ads/sri-lanka/land-for-sale?sort=date&order=desc&buy_now=0&urgent=0&page=\" + str(page)\n",
        "    driver = webdriver.Chrome()\n",
        "    driver.get(page_url)\n",
        "    land_location = soup.find_all('div', class_='description--2-ez3')\n",
        "    # Find all the product names and prices in nested tags using the main tag and with no class for nested tag\n",
        "    land_perches = soup.find('ul', class_='list--3NxGO').find_all('div', attrs={'class': None})\n",
        "    land_prices = soup.find_all('div', class_='price--3SnqI color--t0tGX')\n",
        "\n",
        "    for name in land_location:\n",
        "        location.append(name.text.strip())\n",
        "    for perches in land_perches:\n",
        "        num_perches.append(perches.text.strip())\n",
        "    for price in land_prices:\n",
        "        prices.append(price.text.strip())\n",
        "\n",
        "\n",
        "# Create a pandas DataFrame to store the names and prices\n",
        "df1 = pd.DataFrame({'Perches': num_perches})\n",
        "df1 = df1.drop(index=df1.index[::2]) #removing the second row to only have the perches\n",
        "df2 = pd.DataFrame({'Location': location,'Price': prices})\n",
        "\n",
        "#merging two dataframes\n",
        "merged_df = pd.concat([df1, df2], axis=1)\n",
        "\n",
        "# Print the DataFrame\n",
        "merged_df.to_csv(\"land prices.csv\", index = False)\n",
        "driver.close()"
      ]
    },
    {
      "cell_type": "code",
      "source": [
        "#beautifulsoup\n",
        "import requests\n",
        "from bs4 import BeautifulSoup\n",
        "import pandas as pd\n",
        "\n",
        "# Send a GET request to the website\n",
        "url = \"https://ikman.lk/en/ads/sri-lanka/land-for-sale\"\n",
        "response = requests.get(url)\n",
        "\n",
        "# Create a BeautifulSoup object\n",
        "soup = BeautifulSoup(response.text, 'html.parser')\n",
        "\n",
        "# Find all the product names and prices in nested tags using the main tag\n",
        "land_location = soup.find_all('div', class_='description--2-ez3') # Find all the product names and prices in nested tags using the main tag\n",
        "land_perches = soup.find('ul', class_='list--3NxGO').find_all('div', attrs={'class': None})\n",
        "land_prices = soup.find_all('div', class_='price--3SnqI color--t0tGX')\n",
        "\n",
        "# Create empty lists to store the names and prices\n",
        "location = []\n",
        "num_perches = []\n",
        "prices = []\n",
        "\n",
        "# Extract the text content from the HTML tags and append to the lists\n",
        "for name in land_location:\n",
        "    location.append(name.text.strip())\n",
        "for perches in land_perches:\n",
        "    num_perches.append(perches.text.strip())\n",
        "for price in land_prices:\n",
        "    prices.append(price.text.strip())\n",
        "\n",
        "# Create a pandas DataFrame to store the names and prices\n",
        "df1 = pd.DataFrame({'Perches': num_perches})\n",
        "df1 = df1.drop(index=df1.index[::2]) #removing the second row to only have the perches\n",
        "df2 = pd.DataFrame({'Location': location,'Price': prices})\n",
        "\n",
        "#merging two dataframes\n",
        "merged_df = pd.concat([df1, df2], axis=1)\n",
        "# Print the DataFrame\n",
        "print(merged_df)\n",
        "\n",
        "# Save the DataFrame to a CSV file\n",
        "#df.to_csv(\"medicine_data.csv\", index=False)\n"
      ],
      "metadata": {
        "colab": {
          "base_uri": "https://localhost:8080/"
        },
        "id": "m_CQf2qRIhXE",
        "outputId": "75d5d8e1-1897-4f63-d76b-bd0baddf5c26"
      },
      "execution_count": null,
      "outputs": [
        {
          "output_type": "stream",
          "name": "stdout",
          "text": [
            "         Perches                     Location                      Price\n",
            "1   7.65 perches         Kandy, Land For Sale       Rs 500,000 per perch\n",
            "3   16.5 perches       Colombo, Land For Sale   Rs 9,500,000 total price\n",
            "5    6.0 perches       Gampaha, Land For Sale       Rs 675,000 per perch\n",
            "7   22.6 perches  Anuradhapura, Land For Sale       Rs 605,000 per perch\n",
            "9    9.2 perches  Anuradhapura, Land For Sale       Rs 450,000 per perch\n",
            "11   7.0 perches       Colombo, Land For Sale       Rs 300,000 per perch\n",
            "13   6.0 perches       Colombo, Land For Sale       Rs 600,000 per perch\n",
            "15  11.3 perches       Gampaha, Land For Sale     Rs 150,000 total price\n",
            "17  14.5 perches       Gampaha, Land For Sale       Rs 150,000 per perch\n",
            "19  10.0 perches    Hambantota, Land For Sale       Rs 140,000 per perch\n",
            "21  10.0 perches       Colombo, Land For Sale     Rs 1,200,000 per perch\n",
            "23  10.0 perches       Colombo, Land For Sale       Rs 300,000 per perch\n",
            "25   6.5 perches       Gampaha, Land For Sale       Rs 700,000 per perch\n",
            "27   6.5 perches                          NaN                        NaN\n",
            "29  11.0 perches                          NaN                        NaN\n",
            "31  12.5 perches                          NaN                        NaN\n",
            "33  12.0 perches                          NaN                        NaN\n",
            "35  15.0 perches                          NaN                        NaN\n",
            "37  10.0 perches                          NaN                        NaN\n",
            "39  10.0 perches                          NaN                        NaN\n",
            "41  10.0 perches                          NaN                        NaN\n",
            "43   6.0 perches                          NaN                        NaN\n",
            "45  11.0 perches                          NaN                        NaN\n",
            "47  10.0 perches                          NaN                        NaN\n",
            "49  16.0 perches                          NaN                        NaN\n",
            "51   7.0 perches                          NaN                        NaN\n",
            "53   6.0 perches                          NaN                        NaN\n",
            "0            NaN       Colombo, Land For Sale   Rs 9,500,000 total price\n",
            "2            NaN       Gampaha, Land For Sale       Rs 675,000 per perch\n",
            "4            NaN       Colombo, Land For Sale  Rs 16,500,000 total price\n",
            "6            NaN       Gampaha, Land For Sale       Rs 680,000 per perch\n",
            "8            NaN         Kandy, Land For Sale       Rs 335,000 per perch\n",
            "10           NaN      Kalutara, Land For Sale       Rs 500,000 per perch\n",
            "12           NaN       Colombo, Land For Sale     Rs 1,000,000 per perch\n",
            "14           NaN       Colombo, Land For Sale       Rs 270,000 per perch\n",
            "16           NaN      Kalutara, Land For Sale       Rs 180,000 per perch\n",
            "18           NaN      Kalutara, Land For Sale       Rs 500,000 per perch\n",
            "20           NaN    Kurunegala, Land For Sale       Rs 220,000 per perch\n",
            "22           NaN       Colombo, Land For Sale       Rs 300,000 per perch\n",
            "24           NaN    Kurunegala, Land For Sale       Rs 130,000 per perch\n",
            "26           NaN       Colombo, Land For Sale       Rs 480,000 per perch\n"
          ]
        }
      ]
    },
    {
      "cell_type": "code",
      "source": [
        "##beautifulsoup\n",
        "import requests\n",
        "from bs4 import BeautifulSoup\n",
        "import pandas as pd\n",
        "\n",
        "# Send a GET request to the website\n",
        "url = \"https://ikman.lk/en/ads/sri-lanka/land-for-sale\"\n",
        "response = requests.get(url)\n",
        "\n",
        "# Create a BeautifulSoup object\n",
        "soup = BeautifulSoup(response.text, 'html.parser')\n",
        "\n",
        "# Find all the product names and prices in nested tags using the main tag\n",
        "land_perches = soup.find('ul', class_='list--3NxGO').find_all('div', attrs={'class': None})\n",
        "#soup.find('div', attrs={'class': None})\n",
        "#soup.find(\"p\", class_=False, id=False)\n",
        "\n",
        "# Create empty lists to store the names and prices\n",
        "num_perches = []\n",
        "\n",
        "\n",
        "# Extract the text content from the HTML tags and append to the lists\n",
        "for perches in land_perches:\n",
        "    num_perches.append(perches.text.strip())\n",
        "\n",
        "\n",
        "# Create a pandas DataFrame to store the names and prices\n",
        "df = pd.DataFrame({'Perches': num_perches})\n",
        "df = df.drop(index=df.index[::2])\n",
        "# Print the DataFrame\n",
        "print(df)\n",
        "\n",
        "# Save the DataFrame to a CSV file\n",
        "#df.to_csv(\"medicine_data.csv\", index=False)"
      ],
      "metadata": {
        "colab": {
          "base_uri": "https://localhost:8080/"
        },
        "id": "loKpZeolMPiU",
        "outputId": "d98c3e19-6b93-4f17-c768-76b5c4f31239"
      },
      "execution_count": null,
      "outputs": [
        {
          "output_type": "stream",
          "name": "stdout",
          "text": [
            "         Perches\n",
            "1    6.0 perches\n",
            "3    7.5 perches\n",
            "5    7.5 perches\n",
            "7    6.0 perches\n",
            "9   12.0 perches\n",
            "11   6.0 perches\n",
            "13   8.0 perches\n",
            "15  10.0 perches\n",
            "17   6.0 perches\n",
            "19  20.0 perches\n",
            "21  38.0 perches\n",
            "23  12.5 perches\n",
            "25  12.5 perches\n",
            "27   6.1 perches\n",
            "29  10.0 perches\n",
            "31   7.3 perches\n",
            "33  10.0 perches\n",
            "35  20.0 perches\n",
            "37  12.5 perches\n",
            "39   6.0 perches\n",
            "41   6.5 perches\n",
            "43  11.0 perches\n",
            "45  25.0 perches\n",
            "47   9.6 perches\n",
            "49  15.0 perches\n",
            "51   8.0 perches\n",
            "53  10.0 perches\n"
          ]
        }
      ]
    },
    {
      "cell_type": "code",
      "source": [],
      "metadata": {
        "id": "MB-vw3aVNOO7"
      },
      "execution_count": null,
      "outputs": []
    }
  ]
}